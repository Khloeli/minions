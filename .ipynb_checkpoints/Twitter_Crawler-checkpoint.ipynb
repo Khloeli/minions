{
 "cells": [
  {
   "cell_type": "code",
   "execution_count": 6,
   "id": "a8e43775",
   "metadata": {
    "id": "a8e43775"
   },
   "outputs": [],
   "source": [
    "import tweepy\n",
    "import pandas as pd\n",
    "import time\n",
    "import re"
   ]
  },
  {
   "cell_type": "code",
   "execution_count": 40,
   "id": "486a9b9d",
   "metadata": {},
   "outputs": [
    {
     "name": "stdout",
     "output_type": "stream",
     "text": [
      "Collecting nltk\n",
      "  Downloading nltk-3.6.3-py3-none-any.whl (1.5 MB)\n",
      "Collecting regex\n",
      "  Downloading regex-2021.9.30-cp38-cp38-win_amd64.whl (273 kB)\n",
      "Collecting joblib\n",
      "  Downloading joblib-1.0.1-py3-none-any.whl (303 kB)\n",
      "Collecting click\n",
      "  Downloading click-8.0.1-py3-none-any.whl (97 kB)\n",
      "Collecting tqdm\n",
      "  Downloading tqdm-4.62.3-py2.py3-none-any.whl (76 kB)\n",
      "Requirement already satisfied: colorama in c:\\users\\chloe\\anaconda3\\envs\\bida\\lib\\site-packages (from click->nltk) (0.4.4)\n",
      "Installing collected packages: tqdm, regex, joblib, click, nltk\n",
      "Successfully installed click-8.0.1 joblib-1.0.1 nltk-3.6.3 regex-2021.9.30 tqdm-4.62.3\n",
      "Note: you may need to restart the kernel to use updated packages.\n"
     ]
    }
   ],
   "source": [
    "pip install -U nltk"
   ]
  },
  {
   "cell_type": "code",
   "execution_count": 7,
   "id": "f1d01d04",
   "metadata": {
    "id": "f1d01d04"
   },
   "outputs": [],
   "source": [
    "consumer_key = \"UsOF1GK0VWWPdTGXRD40D3dm5\"\n",
    "consumer_secret = \"3dxcVIYCwe71rydA3n8ZvPLIQyqGbGwP3uHaqmc1pDM6z1bGyz\"\n",
    "access_token = \"1440852507522048004-0C8wfUUQzX778dZ1qsDGUywwhZXcFQ\"\n",
    "access_token_secret = \"UALeQzrHQQVtDpdViDvZRBjht4G2DyLET7oifV4VfxO2I\"\n",
    "\n",
    "auth = tweepy.OAuthHandler(consumer_key, consumer_secret)\n",
    "auth.set_access_token(access_token, access_token_secret)\n",
    "api = tweepy.API(auth,wait_on_rate_limit=True)"
   ]
  },
  {
   "cell_type": "code",
   "execution_count": 8,
   "id": "9bed8419",
   "metadata": {
    "id": "9bed8419"
   },
   "outputs": [],
   "source": [
    "#method for searching and fetching user details\n",
    "user = api.get_user(screen_name = \"JoeBiden\")"
   ]
  },
  {
   "cell_type": "code",
   "execution_count": null,
   "id": "3ec40b63",
   "metadata": {
    "id": "3ec40b63",
    "outputId": "ed7f82ff-53f5-4faa-d62a-5c6c6368baa2"
   },
   "outputs": [
    {
     "data": {
      "text/plain": [
       "['__class__',\n",
       " '__delattr__',\n",
       " '__dict__',\n",
       " '__dir__',\n",
       " '__doc__',\n",
       " '__eq__',\n",
       " '__format__',\n",
       " '__ge__',\n",
       " '__getattribute__',\n",
       " '__getstate__',\n",
       " '__gt__',\n",
       " '__hash__',\n",
       " '__init__',\n",
       " '__init_subclass__',\n",
       " '__le__',\n",
       " '__lt__',\n",
       " '__module__',\n",
       " '__ne__',\n",
       " '__new__',\n",
       " '__reduce__',\n",
       " '__reduce_ex__',\n",
       " '__repr__',\n",
       " '__setattr__',\n",
       " '__sizeof__',\n",
       " '__str__',\n",
       " '__subclasshook__',\n",
       " '__weakref__',\n",
       " '_api',\n",
       " '_json',\n",
       " 'contributors_enabled',\n",
       " 'created_at',\n",
       " 'default_profile',\n",
       " 'default_profile_image',\n",
       " 'description',\n",
       " 'entities',\n",
       " 'favourites_count',\n",
       " 'follow',\n",
       " 'follow_request_sent',\n",
       " 'followers',\n",
       " 'followers_count',\n",
       " 'followers_ids',\n",
       " 'following',\n",
       " 'friends',\n",
       " 'friends_count',\n",
       " 'geo_enabled',\n",
       " 'has_extended_profile',\n",
       " 'id',\n",
       " 'id_str',\n",
       " 'is_translation_enabled',\n",
       " 'is_translator',\n",
       " 'lang',\n",
       " 'listed_count',\n",
       " 'lists',\n",
       " 'lists_memberships',\n",
       " 'lists_subscriptions',\n",
       " 'location',\n",
       " 'name',\n",
       " 'notifications',\n",
       " 'parse',\n",
       " 'parse_list',\n",
       " 'profile_background_color',\n",
       " 'profile_background_image_url',\n",
       " 'profile_background_image_url_https',\n",
       " 'profile_background_tile',\n",
       " 'profile_banner_url',\n",
       " 'profile_image_url',\n",
       " 'profile_image_url_https',\n",
       " 'profile_link_color',\n",
       " 'profile_location',\n",
       " 'profile_sidebar_border_color',\n",
       " 'profile_sidebar_fill_color',\n",
       " 'profile_text_color',\n",
       " 'profile_use_background_image',\n",
       " 'protected',\n",
       " 'screen_name',\n",
       " 'status',\n",
       " 'statuses_count',\n",
       " 'time_zone',\n",
       " 'timeline',\n",
       " 'translator_type',\n",
       " 'unfollow',\n",
       " 'url',\n",
       " 'utc_offset',\n",
       " 'verified',\n",
       " 'withheld_in_countries']"
      ]
     },
     "execution_count": 4,
     "metadata": {},
     "output_type": "execute_result"
    }
   ],
   "source": [
    "#list of attributes in user\n",
    "dir(user)"
   ]
  },
  {
   "cell_type": "code",
   "execution_count": 9,
   "id": "1890966d",
   "metadata": {
    "id": "1890966d",
    "outputId": "287a803f-4fcb-4c73-bf33-0b9828c1ff92"
   },
   "outputs": [
    {
     "name": "stdout",
     "output_type": "stream",
     "text": [
      "User Details:\n",
      "\n",
      "Name: Joe Biden\n",
      "Description: Husband to @DrBiden, proud father and grandfather. Ready to build back better for all Americans. Official account is @POTUS.\n",
      "Location: Washington, DC\n",
      "Created at: 2007-03-11 17:51:24\n",
      "Screen Name: JoeBiden\n",
      "User ID: 939091\n",
      "\n",
      "Social Network Information:\n",
      "\n",
      "Followers Count: 31425883\n",
      "Friends Count: 48\n"
     ]
    }
   ],
   "source": [
    "print(\"User Details:\")\n",
    "print(\"\")\n",
    "print(\"Name: \" + str(user.name))\n",
    "print(\"Description: \" + str(user.description))\n",
    "print(\"Location: \" + str(user.location))\n",
    "print(\"Created at: \" + str(user.created_at))\n",
    "print(\"Screen Name: \" + str(user.screen_name))\n",
    "print(\"User ID: \" + str(user.id))\n",
    "print(\"\")\n",
    "print(\"Social Network Information:\")\n",
    "print(\"\")\n",
    "print(\"Followers Count: \" + str(user.followers_count))\n",
    "print(\"Friends Count: \" + str(user.friends_count))"
   ]
  },
  {
   "cell_type": "code",
   "execution_count": 10,
   "id": "ab3760c1",
   "metadata": {
    "id": "ab3760c1"
   },
   "outputs": [],
   "source": [
    "user_info = [[user.id, user.name, user.description, user.location, user.followers_count]]\n",
    "user_df = pd.DataFrame(user_info, columns = ['User ID', 'Name', 'Description', 'Location', 'Follower Count'])"
   ]
  },
  {
   "cell_type": "code",
   "execution_count": 11,
   "id": "b3806641",
   "metadata": {
    "id": "b3806641",
    "outputId": "21bac4d2-cf2e-4a39-923a-f7bab326b8de"
   },
   "outputs": [
    {
     "data": {
      "text/html": [
       "<div>\n",
       "<style scoped>\n",
       "    .dataframe tbody tr th:only-of-type {\n",
       "        vertical-align: middle;\n",
       "    }\n",
       "\n",
       "    .dataframe tbody tr th {\n",
       "        vertical-align: top;\n",
       "    }\n",
       "\n",
       "    .dataframe thead th {\n",
       "        text-align: right;\n",
       "    }\n",
       "</style>\n",
       "<table border=\"1\" class=\"dataframe\">\n",
       "  <thead>\n",
       "    <tr style=\"text-align: right;\">\n",
       "      <th></th>\n",
       "      <th>User ID</th>\n",
       "      <th>Name</th>\n",
       "      <th>Description</th>\n",
       "      <th>Location</th>\n",
       "      <th>Follower Count</th>\n",
       "    </tr>\n",
       "  </thead>\n",
       "  <tbody>\n",
       "    <tr>\n",
       "      <th>0</th>\n",
       "      <td>939091</td>\n",
       "      <td>Joe Biden</td>\n",
       "      <td>Husband to @DrBiden, proud father and grandfat...</td>\n",
       "      <td>Washington, DC</td>\n",
       "      <td>31425883</td>\n",
       "    </tr>\n",
       "  </tbody>\n",
       "</table>\n",
       "</div>"
      ],
      "text/plain": [
       "   User ID       Name                                        Description  \\\n",
       "0   939091  Joe Biden  Husband to @DrBiden, proud father and grandfat...   \n",
       "\n",
       "         Location  Follower Count  \n",
       "0  Washington, DC        31425883  "
      ]
     },
     "execution_count": 11,
     "metadata": {},
     "output_type": "execute_result"
    }
   ],
   "source": [
    "user_df.head()"
   ]
  },
  {
   "cell_type": "code",
   "execution_count": null,
   "id": "3bb29ba5",
   "metadata": {
    "id": "3bb29ba5"
   },
   "outputs": [],
   "source": [
    "user_df.to_csv('{}-info.csv'.format(username), sep=',', index = False)"
   ]
  },
  {
   "cell_type": "code",
   "execution_count": 12,
   "id": "ba4dae64",
   "metadata": {
    "id": "ba4dae64"
   },
   "outputs": [],
   "source": [
    "#Replace URLs found in a text string with nothing\n",
    "def remove_url(txt): \n",
    "     return \" \".join(re.sub(\"([^0-9A-Za-z \\t])|(\\w+:\\/\\/\\S+)\", \"\", txt).split())"
   ]
  },
  {
   "cell_type": "code",
   "execution_count": 13,
   "id": "39c1f686",
   "metadata": {
    "id": "39c1f686"
   },
   "outputs": [],
   "source": [
    "name = \"JoeBiden\"\n",
    "tweetcount = 200\n",
    "\n",
    "# Calling the user_timeline function with our parameters\n",
    "tweets = api.user_timeline(screen_name=name, count=tweetcount)\n",
    "\n",
    "# foreach through all tweets pulled\n",
    "tweets_list = [[tweet.id, remove_url(tweet.text), tweet.retweet_count, tweet.favorite_count] for tweet in tweets]\n",
    "\n",
    "tweets_df = pd.DataFrame(tweets_list, columns = ['Tweet ID', 'Text', 'Retweet Count', 'Like Count'])\n",
    "# add the covid-19 in filter to extract both keywords since duplicates will be drop in the next line\n",
    "tweets_filter = tweets_df[tweets_df['Text'].str.contains('vaccinated', 'covid-19')]"
   ]
  },
  {
   "cell_type": "code",
   "execution_count": 14,
   "id": "d14ba893",
   "metadata": {
    "id": "d14ba893",
    "outputId": "69f8738d-ea4e-44fe-82fd-d458954fc179"
   },
   "outputs": [
    {
     "name": "stdout",
     "output_type": "stream",
     "text": [
      "                Tweet ID                                                                                                                                      Text  Retweet Count  Like Count\n",
      "13   1442617142222917633                             Today I got my COVID19 booster shotand just like my first and second dose it was safe and easy Get vaccinated           3973       44716\n",
      "18   1442272522775400448                            Over 182 million Americans have already done the right thing and are fully vaccinated as of today To the other           2274       14510\n",
      "26   1441848758321438723                       The majority of Americans who were fully vaccinated with the Pfizer vaccine are now eligible to receive a booster s           1734       11492\n",
      "29   1441532146082934785  RT POTUS The majority of Americans who were fully vaccinated with Pfizer can receive a booster shot at least 6 months after their second           4331           0\n",
      "40   1440012312480452613      RT POTUS We have the tools to put this pandemic behind us but we all have to do our part If you havent yet please get vaccinated And           8315           0\n",
      "44   1439228469028794368                                         Virtually all of the COVID deaths and hospitalizations are from unvaccinated people Get your shot           6496       46365\n",
      "64   1436490934770929706                          Our new COVID19 plan will reduce the number of unvaccinated Americans decrease hospitalizations and deaths allow           4847       39629\n",
      "70   1435739980706500609                          The pandemic of the unvaccinated is a tragedy that is preventable People are dying and will die from COVID19 who           7359       53168\n",
      "74   1434188759747211267    RT POTUS I know some folks are hesitant to get vaccinated but the vaccine is safe effective and the best way to protect yourself and t           3358           0\n",
      "101  1426676508349943815                                       Our economy is coming backbut theres more work to be done We have to beat this virus Get vaccinated           8800       91759\n",
      "111  1424030175940026370                                                      RT POTUS The Delta variant is surging but we have the power to stop itGet vaccinated          15959           0\n",
      "122  1421861032402817032                                                              If youre worried about the Delta variant the answer is simple get vaccinated           6537       44938\n",
      "130  1418999226894372872                                    RT POTUS Folks the Delta variant is no joke Please protect yourself and your loved ones get vaccinated          25744           0\n",
      "137  1416792088239394816                     RT POTUS With the Delta variant on the rise across the country its more important than ever to get vaccinated Head to           4444           0\n",
      "142  1415488484693905411    RT POTUS Thanks for stopping by Olivia and for using your voice to urge young people to get vaccinated If we all do our part and get t          15415           0\n",
      "145  1414299130743111685                                          RT POTUS Get vaccinated folks Its free its effective and its never been easier or more important          21199           0\n",
      "153  1410989575732961286                                                                               Help us mark our independence from this virusget vaccinated           7766       77545\n",
      "155  1410694898601316359                        The science is clear The best way to protect yourself against the virus and its variants is to be fully vaccinated           5466       43357\n",
      "185  1403037362670743559                                                                                            COVID19 vaccines are free Get vaccinated folks          18925      166845\n",
      "194  1401310832882077696                                                                                                    Were counting on you to get vaccinated           3626       34065\n"
     ]
    }
   ],
   "source": [
    "# drop_duplicates to filter by the tweet id column and remove duplicates\n",
    "tweets_filter.drop_duplicates(subset=['Text'], keep=False)\n",
    "# added the to_string() to print out the whole thing for easier viewing\n",
    "print(tweets_filter.to_string())"
   ]
  },
  {
   "cell_type": "code",
   "execution_count": 11,
   "id": "e571348c",
   "metadata": {
    "id": "e571348c"
   },
   "outputs": [],
   "source": [
    "# Converting dataframe to CSV \n",
    "tweets_filter.to_csv('{}-tweets.csv'.format(name), sep=',', index = False)"
   ]
  },
  {
   "cell_type": "code",
   "execution_count": 49,
   "id": "3104236b",
   "metadata": {},
   "outputs": [],
   "source": [
    "words_in_tweet = [Text.lower().split() for Text in tweets_filter.Text]"
   ]
  },
  {
   "cell_type": "code",
   "execution_count": 45,
   "id": "7d674717",
   "metadata": {},
   "outputs": [
    {
     "name": "stderr",
     "output_type": "stream",
     "text": [
      "[nltk_data] Downloading package stopwords to\n",
      "[nltk_data]     C:\\Users\\chloe\\AppData\\Roaming\\nltk_data...\n",
      "[nltk_data]   Package stopwords is already up-to-date!\n"
     ]
    }
   ],
   "source": [
    "from nltk.corpus import stopwords\n",
    "nltk.download('stopwords')"
   ]
  },
  {
   "cell_type": "code",
   "execution_count": 47,
   "id": "4eeaed2c",
   "metadata": {},
   "outputs": [
    {
     "name": "stdout",
     "output_type": "stream",
     "text": [
      "{'am', 'against', \"she's\", \"mustn't\", \"should've\", \"you'll\", 'all', 'had', 'yourself', \"didn't\", 'both', 'out', \"weren't\", 'do', \"haven't\", 'but', \"isn't\", 'such', 'during', 'once', \"aren't\", 'yourselves', 'our', 'doing', 'down', 'when', 'over', 'what', 'and', 'aren', 'while', 'me', 've', 'now', 'from', 'himself', \"doesn't\", 'then', 'doesn', 'weren', 'we', 'between', 'of', 'ourselves', 'them', 'that', 'just', 'before', 'were', 'about', 'how', 'this', 'being', 'to', 'shouldn', 'again', 'should', \"hasn't\", \"won't\", 'there', 'whom', 'if', 'under', 'up', \"you'd\", 'hadn', 'or', 'further', 'your', \"hadn't\", 'is', 'y', 'very', 'nor', 'll', 'an', 'did', 'than', \"you're\", 'until', 'shan', 'needn', 'been', 'yours', 'off', 's', 'where', 'more', 'these', 'their', 'itself', 'into', 'below', \"that'll\", \"needn't\", 'myself', 'those', 't', 'they', 'few', 'by', 'herself', 'o', 'be', 'him', 'at', 'his', 'own', 'a', 'has', 'don', 'm', 'ma', 'mightn', 'you', 'no', \"don't\", 'after', 'have', 'with', 'other', 'some', \"shouldn't\", 'won', 'which', 'haven', 'its', 'theirs', 'here', \"mightn't\", 'my', 'hasn', \"couldn't\", \"shan't\", 'didn', 'any', 'because', 'on', 'in', 'are', 'above', 'does', 'as', 'mustn', 'd', 'ours', 'can', 'she', \"you've\", 'will', 'themselves', \"wouldn't\", 'each', 'ain', 'isn', \"it's\", 'wasn', 'was', 'wouldn', 'same', 'couldn', 'through', 'only', 'why', 'for', 'having', 're', 'most', 'so', 'hers', 'it', 'he', 'who', \"wasn't\", 'i', 'her', 'not', 'too', 'the'}\n"
     ]
    }
   ],
   "source": [
    "stop_words = set(stopwords.words('english')) #list of stopwords\n",
    "print(stop_words)"
   ]
  },
  {
   "cell_type": "code",
   "execution_count": 55,
   "id": "5cc63b0a",
   "metadata": {
    "scrolled": true
   },
   "outputs": [
    {
     "data": {
      "text/plain": [
       "[('vaccinated', 17),\n",
       " ('get', 13),\n",
       " ('rt', 8),\n",
       " ('potus', 8),\n",
       " ('covid19', 4),\n",
       " ('americans', 4),\n",
       " ('fully', 4),\n",
       " ('folks', 4),\n",
       " ('delta', 4),\n",
       " ('variant', 4),\n",
       " ('booster', 3),\n",
       " ('unvaccinated', 3),\n",
       " ('people', 3),\n",
       " ('protect', 3),\n",
       " ('today', 2)]"
      ]
     },
     "execution_count": 55,
     "metadata": {},
     "output_type": "execute_result"
    }
   ],
   "source": [
    "import itertools\n",
    "import collections\n",
    "\n",
    "tweets_nsw = [[word for word in tweet_words if not word in stop_words]\n",
    "              for tweet_words in words_in_tweet]\n",
    "\n",
    "all_words = list(itertools.chain(*tweets_nsw))  #import libary itertools to flatten the list into 1 list\n",
    "\n",
    "# Create counter\n",
    "counts_words = collections.Counter(all_words)  #import library collections collection \"Counter\" object \n",
    "\n",
    "counts_words.most_common(15) #return the most commonly used words and the number of times that they are used."
   ]
  },
  {
   "cell_type": "code",
   "execution_count": 57,
   "id": "2b68925f",
   "metadata": {},
   "outputs": [
    {
     "data": {
      "image/png": "[encoded data removed]",
      "text/plain": [
       "<Figure size 576x576 with 1 Axes>"
      ]
     },
     "metadata": {
      "needs_background": "light"
     },
     "output_type": "display_data"
    }
   ],
   "source": [
    "import matplotlib.pyplot as plt\n",
    "clean_tweets_nsw = pd.DataFrame(counts_words.most_common(15),\n",
    "                             columns=['words', 'count'])\n",
    "\n",
    "fig, ax = plt.subplots(figsize=(8, 8))\n",
    "\n",
    "# Plot horizontal bar graph\n",
    "clean_tweets_nsw.sort_values(by='count').plot.barh(x='words',\n",
    "                      y='count',\n",
    "                      ax=ax,\n",
    "                      color=\"purple\")\n",
    "\n",
    "ax.set_title(\"Common Words Found in Tweets (Without Stop Words)\")\n",
    "\n",
    "plt.show()"
   ]
  },
  {
   "cell_type": "code",
   "execution_count": null,
   "id": "92c94d8a",
   "metadata": {
    "id": "92c94d8a",
    "outputId": "a16af87c-476d-490d-92dc-bb7d801fe670"
   },
   "outputs": [
    {
     "data": {
      "text/plain": [
       "['__class__',\n",
       " '__delattr__',\n",
       " '__dict__',\n",
       " '__dir__',\n",
       " '__doc__',\n",
       " '__eq__',\n",
       " '__format__',\n",
       " '__ge__',\n",
       " '__getattribute__',\n",
       " '__getstate__',\n",
       " '__gt__',\n",
       " '__hash__',\n",
       " '__init__',\n",
       " '__init_subclass__',\n",
       " '__le__',\n",
       " '__lt__',\n",
       " '__module__',\n",
       " '__ne__',\n",
       " '__new__',\n",
       " '__reduce__',\n",
       " '__reduce_ex__',\n",
       " '__repr__',\n",
       " '__setattr__',\n",
       " '__sizeof__',\n",
       " '__slots__',\n",
       " '__str__',\n",
       " '__subclasshook__',\n",
       " '__weakref__',\n",
       " '_api',\n",
       " '_json',\n",
       " 'author',\n",
       " 'contributors',\n",
       " 'coordinates',\n",
       " 'created_at',\n",
       " 'destroy',\n",
       " 'entities',\n",
       " 'favorite',\n",
       " 'favorite_count',\n",
       " 'favorited',\n",
       " 'geo',\n",
       " 'id',\n",
       " 'id_str',\n",
       " 'in_reply_to_screen_name',\n",
       " 'in_reply_to_status_id',\n",
       " 'in_reply_to_status_id_str',\n",
       " 'in_reply_to_user_id',\n",
       " 'in_reply_to_user_id_str',\n",
       " 'is_quote_status',\n",
       " 'lang',\n",
       " 'parse',\n",
       " 'parse_list',\n",
       " 'place',\n",
       " 'retweet',\n",
       " 'retweet_count',\n",
       " 'retweeted',\n",
       " 'retweeted_status',\n",
       " 'retweets',\n",
       " 'source',\n",
       " 'source_url',\n",
       " 'text',\n",
       " 'truncated',\n",
       " 'user']"
      ]
     },
     "execution_count": 68,
     "metadata": {},
     "output_type": "execute_result"
    }
   ],
   "source": [
    "dir(tweet)"
   ]
  }
 ],
 "metadata": {
  "colab": {
   "name": "Twitter_Crawler_updated.ipynb",
   "provenance": []
  },
  "kernelspec": {
   "display_name": "Python 3 (ipykernel)",
   "language": "python",
   "name": "python3"
  },
  "language_info": {
   "codemirror_mode": {
    "name": "ipython",
    "version": 3
   },
   "file_extension": ".py",
   "mimetype": "text/x-python",
   "name": "python",
   "nbconvert_exporter": "python",
   "pygments_lexer": "ipython3",
   "version": "3.8.11"
  }
 },
 "nbformat": 4,
 "nbformat_minor": 5
}
