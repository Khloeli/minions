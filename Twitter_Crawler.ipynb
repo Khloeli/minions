{
 "cells": [
  {
   "cell_type": "code",
   "execution_count": 15,
   "id": "a8e43775",
   "metadata": {},
   "outputs": [],
   "source": [
    "import tweepy\n",
    "import pandas as pd\n",
    "import time"
   ]
  },
  {
   "cell_type": "code",
   "execution_count": 16,
   "id": "f1d01d04",
   "metadata": {},
   "outputs": [],
   "source": [
    "consumer_key = \"UsOF1GK0VWWPdTGXRD40D3dm5\"\n",
    "consumer_secret = \"3dxcVIYCwe71rydA3n8ZvPLIQyqGbGwP3uHaqmc1pDM6z1bGyz\"\n",
    "access_token = \"1440852507522048004-0C8wfUUQzX778dZ1qsDGUywwhZXcFQ\"\n",
    "access_token_secret = \"UALeQzrHQQVtDpdViDvZRBjht4G2DyLET7oifV4VfxO2I\"\n",
    "\n",
    "auth = tweepy.OAuthHandler(consumer_key, consumer_secret)\n",
    "auth.set_access_token(access_token, access_token_secret)\n",
    "api = tweepy.API(auth,wait_on_rate_limit=True)"
   ]
  },
  {
   "cell_type": "code",
   "execution_count": 17,
   "id": "9bed8419",
   "metadata": {},
   "outputs": [],
   "source": [
    "#method for searching and fetching user details\n",
    "user = api.get_user(screen_name = \"JoeBiden\")"
   ]
  },
  {
   "cell_type": "code",
   "execution_count": 18,
   "id": "7329cf01",
   "metadata": {},
   "outputs": [
    {
     "data": {
      "text/plain": [
       "['__class__',\n",
       " '__delattr__',\n",
       " '__dict__',\n",
       " '__dir__',\n",
       " '__doc__',\n",
       " '__eq__',\n",
       " '__format__',\n",
       " '__ge__',\n",
       " '__getattribute__',\n",
       " '__getstate__',\n",
       " '__gt__',\n",
       " '__hash__',\n",
       " '__init__',\n",
       " '__init_subclass__',\n",
       " '__le__',\n",
       " '__lt__',\n",
       " '__module__',\n",
       " '__ne__',\n",
       " '__new__',\n",
       " '__reduce__',\n",
       " '__reduce_ex__',\n",
       " '__repr__',\n",
       " '__setattr__',\n",
       " '__sizeof__',\n",
       " '__slots__',\n",
       " '__str__',\n",
       " '__subclasshook__',\n",
       " '__weakref__',\n",
       " '_api',\n",
       " '_json',\n",
       " 'contributors_enabled',\n",
       " 'created_at',\n",
       " 'default_profile',\n",
       " 'default_profile_image',\n",
       " 'description',\n",
       " 'entities',\n",
       " 'favourites_count',\n",
       " 'follow',\n",
       " 'follow_request_sent',\n",
       " 'follower_ids',\n",
       " 'followers',\n",
       " 'followers_count',\n",
       " 'following',\n",
       " 'friends',\n",
       " 'friends_count',\n",
       " 'geo_enabled',\n",
       " 'has_extended_profile',\n",
       " 'id',\n",
       " 'id_str',\n",
       " 'is_translation_enabled',\n",
       " 'is_translator',\n",
       " 'lang',\n",
       " 'list_memberships',\n",
       " 'list_ownerships',\n",
       " 'list_subscriptions',\n",
       " 'listed_count',\n",
       " 'lists',\n",
       " 'location',\n",
       " 'name',\n",
       " 'notifications',\n",
       " 'parse',\n",
       " 'parse_list',\n",
       " 'profile_background_color',\n",
       " 'profile_background_image_url',\n",
       " 'profile_background_image_url_https',\n",
       " 'profile_background_tile',\n",
       " 'profile_banner_url',\n",
       " 'profile_image_url',\n",
       " 'profile_image_url_https',\n",
       " 'profile_link_color',\n",
       " 'profile_location',\n",
       " 'profile_sidebar_border_color',\n",
       " 'profile_sidebar_fill_color',\n",
       " 'profile_text_color',\n",
       " 'profile_use_background_image',\n",
       " 'protected',\n",
       " 'screen_name',\n",
       " 'status',\n",
       " 'statuses_count',\n",
       " 'time_zone',\n",
       " 'timeline',\n",
       " 'translator_type',\n",
       " 'unfollow',\n",
       " 'url',\n",
       " 'utc_offset',\n",
       " 'verified',\n",
       " 'withheld_in_countries']"
      ]
     },
     "execution_count": 18,
     "metadata": {},
     "output_type": "execute_result"
    }
   ],
   "source": [
    "#list of attributes in user\n",
    "dir(user)"
   ]
  },
  {
   "cell_type": "code",
   "execution_count": 79,
   "id": "1890966d",
   "metadata": {},
   "outputs": [
    {
     "name": "stdout",
     "output_type": "stream",
     "text": [
      "User Details:\n",
      "\n",
      "Name: Joe Biden\n",
      "Description: Husband to @DrBiden, proud father and grandfather. Ready to build back better for all Americans. Official account is @POTUS.\n",
      "Location: Washington, DC\n",
      "Created at: 2007-03-11 17:51:24+00:00\n",
      "Screen Name: JoeBiden\n",
      "User ID: 939091\n",
      "\n",
      "Social Network Information:\n",
      "\n",
      "Followers Count: 31370202\n",
      "Friends Count: 48\n"
     ]
    }
   ],
   "source": [
    "print(\"User Details:\")\n",
    "print(\"\")\n",
    "print(\"Name: \" + str(user.name))\n",
    "print(\"Description: \" + str(user.description))\n",
    "print(\"Location: \" + str(user.location))\n",
    "print(\"Created at: \" + str(user.created_at))\n",
    "print(\"Screen Name: \" + str(user.screen_name))\n",
    "print(\"User ID: \" + str(user.id))\n",
    "print(\"\")\n",
    "print(\"Social Network Information:\")\n",
    "print(\"\")\n",
    "print(\"Followers Count: \" + str(user.followers_count))\n",
    "print(\"Friends Count: \" + str(user.friends_count))"
   ]
  },
  {
   "cell_type": "code",
   "execution_count": 94,
   "id": "5a5b25c9",
   "metadata": {},
   "outputs": [],
   "source": [
    "user_info = [[user.id, user.name, user.description, user.location, user.followers_count]]\n",
    "user_df = pd.DataFrame(user_info, columns = ['User ID', 'Name', 'Description', 'Location', 'Follower Count'])"
   ]
  },
  {
   "cell_type": "code",
   "execution_count": 95,
   "id": "24db9f92",
   "metadata": {},
   "outputs": [
    {
     "data": {
      "text/html": [
       "<div>\n",
       "<style scoped>\n",
       "    .dataframe tbody tr th:only-of-type {\n",
       "        vertical-align: middle;\n",
       "    }\n",
       "\n",
       "    .dataframe tbody tr th {\n",
       "        vertical-align: top;\n",
       "    }\n",
       "\n",
       "    .dataframe thead th {\n",
       "        text-align: right;\n",
       "    }\n",
       "</style>\n",
       "<table border=\"1\" class=\"dataframe\">\n",
       "  <thead>\n",
       "    <tr style=\"text-align: right;\">\n",
       "      <th></th>\n",
       "      <th>User ID</th>\n",
       "      <th>Name</th>\n",
       "      <th>Description</th>\n",
       "      <th>Location</th>\n",
       "      <th>Follower Count</th>\n",
       "    </tr>\n",
       "  </thead>\n",
       "  <tbody>\n",
       "    <tr>\n",
       "      <th>0</th>\n",
       "      <td>939091</td>\n",
       "      <td>Joe Biden</td>\n",
       "      <td>Husband to @DrBiden, proud father and grandfat...</td>\n",
       "      <td>Washington, DC</td>\n",
       "      <td>31370202</td>\n",
       "    </tr>\n",
       "  </tbody>\n",
       "</table>\n",
       "</div>"
      ],
      "text/plain": [
       "   User ID       Name                                        Description  \\\n",
       "0   939091  Joe Biden  Husband to @DrBiden, proud father and grandfat...   \n",
       "\n",
       "         Location  Follower Count  \n",
       "0  Washington, DC        31370202  "
      ]
     },
     "execution_count": 95,
     "metadata": {},
     "output_type": "execute_result"
    }
   ],
   "source": [
    "user_df.head()"
   ]
  },
  {
   "cell_type": "code",
   "execution_count": 98,
   "id": "a51a7ea6",
   "metadata": {},
   "outputs": [],
   "source": [
    "user_df.to_csv('{}-info.csv'.format(username), sep=',', index = False)"
   ]
  },
  {
   "cell_type": "code",
   "execution_count": 101,
   "id": "4dc3d90d",
   "metadata": {},
   "outputs": [],
   "source": [
    "name = \"JoeBiden\"\n",
    "tweetcount = 200\n",
    "\n",
    "# Calling the user_timeline function with our parameters\n",
    "tweets = api.user_timeline(screen_name=name, count=tweetcount)\n",
    "\n",
    "# foreach through all tweets pulled\n",
    "tweets_list = [[tweet.id, tweet.text, tweet.retweet_count, tweet.favorite_count] for tweet in tweets]\n",
    "\n",
    "tweets_df = pd.DataFrame(tweets_list, columns = ['Tweet ID', 'Text', 'Retweet Count', 'Like Count'])\n",
    "tweets_filter = tweets_df[tweets_df['Text'].str.contains('vaccinated')]"
   ]
  },
  {
   "cell_type": "code",
   "execution_count": 91,
   "id": "912bd806",
   "metadata": {},
   "outputs": [
    {
     "name": "stdout",
     "output_type": "stream",
     "text": [
      "                   Created At             Tweet ID  \\\n",
      "11  2021-09-27 22:28:23+00:00  1442617142222917633   \n",
      "16  2021-09-26 23:39:00+00:00  1442272522775400448   \n",
      "24  2021-09-25 19:35:06+00:00  1441848758321438723   \n",
      "27  2021-09-24 22:37:00+00:00  1441532146082934785   \n",
      "38  2021-09-20 17:57:44+00:00  1440012312480452613   \n",
      "42  2021-09-18 14:03:01+00:00  1439228469028794368   \n",
      "62  2021-09-11 00:45:02+00:00  1436490934770929706   \n",
      "68  2021-09-08 23:01:00+00:00  1435739980706500609   \n",
      "72  2021-09-04 16:17:00+00:00  1434188759747211267   \n",
      "99  2021-08-14 22:46:00+00:00  1426676508349943815   \n",
      "109 2021-08-07 15:30:25+00:00  1424030175940026370   \n",
      "120 2021-08-01 15:51:01+00:00  1421861032402817032   \n",
      "128 2021-07-24 18:19:14+00:00  1418999226894372872   \n",
      "135 2021-07-18 16:08:51+00:00  1416792088239394816   \n",
      "140 2021-07-15 01:48:47+00:00  1415488484693905411   \n",
      "143 2021-07-11 19:02:43+00:00  1414299130743111685   \n",
      "151 2021-07-02 15:51:44+00:00  1410989575732961286   \n",
      "153 2021-07-01 20:20:47+00:00  1410694898601316359   \n",
      "183 2021-06-10 17:12:29+00:00  1403037362670743559   \n",
      "192 2021-06-05 22:51:52+00:00  1401310832882077696   \n",
      "199 2021-06-03 21:18:48+00:00  1400562637491126274   \n",
      "\n",
      "                                                  Text  Retweet Count  \\\n",
      "11   Today I got my COVID-19 booster shot—and just ...           3944   \n",
      "16   Over 182 million Americans have already done t...           2262   \n",
      "24   The majority of Americans who were fully vacci...           1727   \n",
      "27   RT @POTUS: The majority of Americans who were ...           4334   \n",
      "38   RT @POTUS: We have the tools to put this pande...           8313   \n",
      "42   Virtually all of the COVID deaths and hospital...           6504   \n",
      "62   Our new COVID-19 plan will reduce the number o...           4848   \n",
      "68   The pandemic of the unvaccinated is a tragedy ...           7366   \n",
      "72   RT @POTUS: I know some folks are hesitant to g...           3365   \n",
      "99   Our economy is coming back—but there’s more wo...           8802   \n",
      "109  RT @POTUS: The Delta variant is surging, but w...          15962   \n",
      "120  If you’re worried about the Delta variant, the...           6539   \n",
      "128  RT @POTUS: Folks the Delta variant is no joke....          25752   \n",
      "135  RT @POTUS: With the Delta variant on the rise ...           4444   \n",
      "140  RT @POTUS: Thanks for stopping by, Olivia, and...          15427   \n",
      "143  RT @POTUS: Get vaccinated, folks. It’s free, i...          21211   \n",
      "151  Help us mark our independence from this virus—...           7768   \n",
      "153  The science is clear: The best way to protect ...           5468   \n",
      "183  COVID-19 vaccines are free. Get vaccinated, fo...          18938   \n",
      "192  We’re counting on you to get vaccinated: https...           3628   \n",
      "199  RT @POTUS: Unemployment claims are down 50% an...           6537   \n",
      "\n",
      "     Like Count  \n",
      "11        44377  \n",
      "16        14464  \n",
      "24        11462  \n",
      "27            0  \n",
      "38            0  \n",
      "42        46347  \n",
      "62        39644  \n",
      "68        53176  \n",
      "72            0  \n",
      "99        91799  \n",
      "109           0  \n",
      "120       44939  \n",
      "128           0  \n",
      "135           0  \n",
      "140           0  \n",
      "143           0  \n",
      "151       77565  \n",
      "153       43371  \n",
      "183      166914  \n",
      "192       34078  \n",
      "199           0  \n"
     ]
    }
   ],
   "source": [
    "print(tweets_filter)"
   ]
  },
  {
   "cell_type": "code",
   "execution_count": 99,
   "id": "18e105c9",
   "metadata": {},
   "outputs": [],
   "source": [
    "# Converting dataframe to CSV \n",
    "tweets_filter.to_csv('{}-tweets.csv'.format(username), sep=',', index = False, encoding='utf-8-sig')"
   ]
  },
  {
   "cell_type": "code",
   "execution_count": 68,
   "id": "e3b33bb8",
   "metadata": {},
   "outputs": [
    {
     "data": {
      "text/plain": [
       "['__class__',\n",
       " '__delattr__',\n",
       " '__dict__',\n",
       " '__dir__',\n",
       " '__doc__',\n",
       " '__eq__',\n",
       " '__format__',\n",
       " '__ge__',\n",
       " '__getattribute__',\n",
       " '__getstate__',\n",
       " '__gt__',\n",
       " '__hash__',\n",
       " '__init__',\n",
       " '__init_subclass__',\n",
       " '__le__',\n",
       " '__lt__',\n",
       " '__module__',\n",
       " '__ne__',\n",
       " '__new__',\n",
       " '__reduce__',\n",
       " '__reduce_ex__',\n",
       " '__repr__',\n",
       " '__setattr__',\n",
       " '__sizeof__',\n",
       " '__slots__',\n",
       " '__str__',\n",
       " '__subclasshook__',\n",
       " '__weakref__',\n",
       " '_api',\n",
       " '_json',\n",
       " 'author',\n",
       " 'contributors',\n",
       " 'coordinates',\n",
       " 'created_at',\n",
       " 'destroy',\n",
       " 'entities',\n",
       " 'favorite',\n",
       " 'favorite_count',\n",
       " 'favorited',\n",
       " 'geo',\n",
       " 'id',\n",
       " 'id_str',\n",
       " 'in_reply_to_screen_name',\n",
       " 'in_reply_to_status_id',\n",
       " 'in_reply_to_status_id_str',\n",
       " 'in_reply_to_user_id',\n",
       " 'in_reply_to_user_id_str',\n",
       " 'is_quote_status',\n",
       " 'lang',\n",
       " 'parse',\n",
       " 'parse_list',\n",
       " 'place',\n",
       " 'retweet',\n",
       " 'retweet_count',\n",
       " 'retweeted',\n",
       " 'retweeted_status',\n",
       " 'retweets',\n",
       " 'source',\n",
       " 'source_url',\n",
       " 'text',\n",
       " 'truncated',\n",
       " 'user']"
      ]
     },
     "execution_count": 68,
     "metadata": {},
     "output_type": "execute_result"
    }
   ],
   "source": [
    "dir(tweet)"
   ]
  },
  {
   "cell_type": "code",
   "execution_count": null,
   "id": "f1901a90",
   "metadata": {},
   "outputs": [],
   "source": []
  }
 ],
 "metadata": {
  "kernelspec": {
   "display_name": "Python 3",
   "language": "python",
   "name": "python3"
  },
  "language_info": {
   "codemirror_mode": {
    "name": "ipython",
    "version": 3
   },
   "file_extension": ".py",
   "mimetype": "text/x-python",
   "name": "python",
   "nbconvert_exporter": "python",
   "pygments_lexer": "ipython3",
   "version": "3.8.8"
  }
 },
 "nbformat": 4,
 "nbformat_minor": 5
}
