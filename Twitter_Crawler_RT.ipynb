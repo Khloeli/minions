{
 "cells": [
  {
   "cell_type": "code",
   "execution_count": 34,
   "id": "a8e43775",
   "metadata": {
    "id": "a8e43775"
   },
   "outputs": [],
   "source": [
    "import tweepy\n",
    "import pandas as pd\n",
    "import time\n",
    "import re\n",
    "import nltk"
   ]
  },
  {
   "cell_type": "code",
   "execution_count": 35,
   "id": "dc2c5c3d",
   "metadata": {},
   "outputs": [],
   "source": [
    "#!pip install -U nltk "
   ]
  },
  {
   "cell_type": "code",
   "execution_count": 36,
   "id": "f1d01d04",
   "metadata": {
    "id": "f1d01d04"
   },
   "outputs": [],
   "source": [
    "consumer_key = \"UsOF1GK0VWWPdTGXRD40D3dm5\"\n",
    "consumer_secret = \"3dxcVIYCwe71rydA3n8ZvPLIQyqGbGwP3uHaqmc1pDM6z1bGyz\"\n",
    "access_token = \"1440852507522048004-0C8wfUUQzX778dZ1qsDGUywwhZXcFQ\"\n",
    "access_token_secret = \"UALeQzrHQQVtDpdViDvZRBjht4G2DyLET7oifV4VfxO2I\"\n",
    "\n",
    "auth = tweepy.OAuthHandler(consumer_key, consumer_secret)\n",
    "auth.set_access_token(access_token, access_token_secret)\n",
    "api = tweepy.API(auth,wait_on_rate_limit=True)"
   ]
  },
  {
   "cell_type": "code",
   "execution_count": 37,
   "id": "9bed8419",
   "metadata": {
    "id": "9bed8419"
   },
   "outputs": [],
   "source": [
    "#method for searching and fetching user details\n",
    "user = api.get_user(screen_name = \"JoeBiden\")"
   ]
  },
  {
   "cell_type": "code",
   "execution_count": 38,
   "id": "3ec40b63",
   "metadata": {
    "id": "3ec40b63",
    "outputId": "ed7f82ff-53f5-4faa-d62a-5c6c6368baa2"
   },
   "outputs": [
    {
     "data": {
      "text/plain": [
       "['__class__',\n",
       " '__delattr__',\n",
       " '__dict__',\n",
       " '__dir__',\n",
       " '__doc__',\n",
       " '__eq__',\n",
       " '__format__',\n",
       " '__ge__',\n",
       " '__getattribute__',\n",
       " '__getstate__',\n",
       " '__gt__',\n",
       " '__hash__',\n",
       " '__init__',\n",
       " '__init_subclass__',\n",
       " '__le__',\n",
       " '__lt__',\n",
       " '__module__',\n",
       " '__ne__',\n",
       " '__new__',\n",
       " '__reduce__',\n",
       " '__reduce_ex__',\n",
       " '__repr__',\n",
       " '__setattr__',\n",
       " '__sizeof__',\n",
       " '__slots__',\n",
       " '__str__',\n",
       " '__subclasshook__',\n",
       " '__weakref__',\n",
       " '_api',\n",
       " '_json',\n",
       " 'contributors_enabled',\n",
       " 'created_at',\n",
       " 'default_profile',\n",
       " 'default_profile_image',\n",
       " 'description',\n",
       " 'entities',\n",
       " 'favourites_count',\n",
       " 'follow',\n",
       " 'follow_request_sent',\n",
       " 'follower_ids',\n",
       " 'followers',\n",
       " 'followers_count',\n",
       " 'following',\n",
       " 'friends',\n",
       " 'friends_count',\n",
       " 'geo_enabled',\n",
       " 'has_extended_profile',\n",
       " 'id',\n",
       " 'id_str',\n",
       " 'is_translation_enabled',\n",
       " 'is_translator',\n",
       " 'lang',\n",
       " 'list_memberships',\n",
       " 'list_ownerships',\n",
       " 'list_subscriptions',\n",
       " 'listed_count',\n",
       " 'lists',\n",
       " 'location',\n",
       " 'name',\n",
       " 'notifications',\n",
       " 'parse',\n",
       " 'parse_list',\n",
       " 'profile_background_color',\n",
       " 'profile_background_image_url',\n",
       " 'profile_background_image_url_https',\n",
       " 'profile_background_tile',\n",
       " 'profile_banner_url',\n",
       " 'profile_image_url',\n",
       " 'profile_image_url_https',\n",
       " 'profile_link_color',\n",
       " 'profile_location',\n",
       " 'profile_sidebar_border_color',\n",
       " 'profile_sidebar_fill_color',\n",
       " 'profile_text_color',\n",
       " 'profile_use_background_image',\n",
       " 'protected',\n",
       " 'screen_name',\n",
       " 'status',\n",
       " 'statuses_count',\n",
       " 'time_zone',\n",
       " 'timeline',\n",
       " 'translator_type',\n",
       " 'unfollow',\n",
       " 'url',\n",
       " 'utc_offset',\n",
       " 'verified',\n",
       " 'withheld_in_countries']"
      ]
     },
     "execution_count": 38,
     "metadata": {},
     "output_type": "execute_result"
    }
   ],
   "source": [
    "#list of attributes in user\n",
    "dir(user)"
   ]
  },
  {
   "cell_type": "code",
   "execution_count": 39,
   "id": "1890966d",
   "metadata": {
    "id": "1890966d",
    "outputId": "287a803f-4fcb-4c73-bf33-0b9828c1ff92"
   },
   "outputs": [
    {
     "name": "stdout",
     "output_type": "stream",
     "text": [
      "User Details:\n",
      "\n",
      "Name: Joe Biden\n",
      "Description: Husband to @DrBiden, proud father and grandfather. Ready to build back better for all Americans. Official account is @POTUS.\n",
      "Location: Washington, DC\n",
      "Created at: 2007-03-11 17:51:24+00:00\n",
      "Screen Name: JoeBiden\n",
      "User ID: 939091\n",
      "\n",
      "Social Network Information:\n",
      "\n",
      "Followers Count: 31429184\n",
      "Friends Count: 48\n"
     ]
    }
   ],
   "source": [
    "print(\"User Details:\")\n",
    "print(\"\")\n",
    "print(\"Name: \" + str(user.name))\n",
    "print(\"Description: \" + str(user.description))\n",
    "print(\"Location: \" + str(user.location))\n",
    "print(\"Created at: \" + str(user.created_at))\n",
    "print(\"Screen Name: \" + str(user.screen_name))\n",
    "print(\"User ID: \" + str(user.id))\n",
    "print(\"\")\n",
    "print(\"Social Network Information:\")\n",
    "print(\"\")\n",
    "print(\"Followers Count: \" + str(user.followers_count))\n",
    "print(\"Friends Count: \" + str(user.friends_count))"
   ]
  },
  {
   "cell_type": "code",
   "execution_count": 40,
   "id": "ab3760c1",
   "metadata": {
    "id": "ab3760c1"
   },
   "outputs": [],
   "source": [
    "user_info = [[user.id, user.name, user.description, user.location, user.followers_count]]\n",
    "user_df = pd.DataFrame(user_info, columns = ['User ID', 'Name', 'Description', 'Location', 'Follower Count'])"
   ]
  },
  {
   "cell_type": "code",
   "execution_count": 41,
   "id": "b3806641",
   "metadata": {
    "id": "b3806641",
    "outputId": "21bac4d2-cf2e-4a39-923a-f7bab326b8de"
   },
   "outputs": [
    {
     "data": {
      "text/html": [
       "<div>\n",
       "<style scoped>\n",
       "    .dataframe tbody tr th:only-of-type {\n",
       "        vertical-align: middle;\n",
       "    }\n",
       "\n",
       "    .dataframe tbody tr th {\n",
       "        vertical-align: top;\n",
       "    }\n",
       "\n",
       "    .dataframe thead th {\n",
       "        text-align: right;\n",
       "    }\n",
       "</style>\n",
       "<table border=\"1\" class=\"dataframe\">\n",
       "  <thead>\n",
       "    <tr style=\"text-align: right;\">\n",
       "      <th></th>\n",
       "      <th>User ID</th>\n",
       "      <th>Name</th>\n",
       "      <th>Description</th>\n",
       "      <th>Location</th>\n",
       "      <th>Follower Count</th>\n",
       "    </tr>\n",
       "  </thead>\n",
       "  <tbody>\n",
       "    <tr>\n",
       "      <th>0</th>\n",
       "      <td>939091</td>\n",
       "      <td>Joe Biden</td>\n",
       "      <td>Husband to @DrBiden, proud father and grandfat...</td>\n",
       "      <td>Washington, DC</td>\n",
       "      <td>31429184</td>\n",
       "    </tr>\n",
       "  </tbody>\n",
       "</table>\n",
       "</div>"
      ],
      "text/plain": [
       "   User ID       Name                                        Description  \\\n",
       "0   939091  Joe Biden  Husband to @DrBiden, proud father and grandfat...   \n",
       "\n",
       "         Location  Follower Count  \n",
       "0  Washington, DC        31429184  "
      ]
     },
     "execution_count": 41,
     "metadata": {},
     "output_type": "execute_result"
    }
   ],
   "source": [
    "user_df.head()"
   ]
  },
  {
   "cell_type": "code",
   "execution_count": 42,
   "id": "3bb29ba5",
   "metadata": {
    "id": "3bb29ba5"
   },
   "outputs": [],
   "source": [
    "user_df.to_csv('{}-info.csv'.format(user.name), sep=',', index = False)"
   ]
  },
  {
   "cell_type": "code",
   "execution_count": 43,
   "id": "ba4dae64",
   "metadata": {
    "id": "ba4dae64"
   },
   "outputs": [],
   "source": [
    "#Replace URLs found in a text string with nothing\n",
    "def remove_url(txt): \n",
    "     return \" \".join(re.sub(\"([^0-9A-Za-z \\t])|(\\w+:\\/\\/\\S+)\", \"\", txt).split())"
   ]
  },
  {
   "cell_type": "code",
   "execution_count": 44,
   "id": "39c1f686",
   "metadata": {
    "id": "39c1f686"
   },
   "outputs": [],
   "source": [
    "name = \"JoeBiden\"\n",
    "tweetcount = 200\n",
    "tweets_list = []\n",
    "\n",
    "# Calling the user_timeline function with our parameters\n",
    "tweets = api.user_timeline(screen_name=name, count=tweetcount, tweet_mode='extended')\n",
    "\n",
    "# foreach through all tweets pulled\n",
    "for tweet in tweets:\n",
    "    try:    \n",
    "        tweets_list.append([tweet.id, remove_url(tweet.full_text), tweet.retweet_count, tweet.retweeted_status.favorite_count])\n",
    "    except:\n",
    "        tweets_list.append([tweet.id, remove_url(tweet.full_text), tweet.retweet_count, tweet.favorite_count])\n",
    "\n",
    "tweets_df = pd.DataFrame(tweets_list, columns = ['Tweet ID', 'Text', 'Retweet Count', 'Like Count'])\n",
    "# add the covid-19 in filter to extract both keywords since duplicates will be drop in the next line\n",
    "tweets_filter = tweets_df[tweets_df['Text'].str.contains('vaccinated', 'covid-19')]"
   ]
  },
  {
   "cell_type": "code",
   "execution_count": 45,
   "id": "d14ba893",
   "metadata": {
    "id": "d14ba893",
    "outputId": "69f8738d-ea4e-44fe-82fd-d458954fc179"
   },
   "outputs": [
    {
     "name": "stdout",
     "output_type": "stream",
     "text": [
      "                Tweet ID                                                                                                                                                                                                                                                                         Text  Retweet Count  Like Count\n",
      "13   1442617142222917633                                                                                                                 Today I got my COVID19 booster shotand just like my first and second dose it was safe and easy Get vaccinated Together can we save lives and beat this virus           3974       44731\n",
      "18   1442272522775400448                                                       Over 182 million Americans have already done the right thing and are fully vaccinated as of today To the other 70 million eligible Americans who have yet to get their first shot get vaccinated It can save your life           2274       14513\n",
      "22   1442146441993064449                                                                                     If you dont qualify for the booster or you got the Moderna and Johnson amp Johnson vaccines if youre fully vaccinated youre highly protected from severe illness even if you get COVID19           1602       10043\n",
      "24   1441899064556204033                                                 Weve made so much progress during the past eight months of this pandemic and now we face a critical moment We have the tools and we have the planwe just have to finish the job together as one nation Please get vaccinated           4088       30011\n",
      "26   1441848758321438723                                                                                                    The majority of Americans who were fully vaccinated with the Pfizer vaccine are now eligible to receive a booster shot six months after theyve received their second shot           1735       11492\n",
      "29   1441532146082934785                                                                                                                                     RT POTUS The majority of Americans who were fully vaccinated with Pfizer can receive a booster shot at least 6 months after their second           4332       30249\n",
      "40   1440012312480452613                                                                                                                                         RT POTUS We have the tools to put this pandemic behind us but we all have to do our part If you havent yet please get vaccinated And           8317       53317\n",
      "44   1439228469028794368                                                                                                                                                                            Virtually all of the COVID deaths and hospitalizations are from unvaccinated people Get your shot           6496       46368\n",
      "64   1436490934770929706  Our new COVID19 plan will reduce the number of unvaccinated Americans decrease hospitalizations and deaths allow our children to go to schools safely and keep our economy strong by keeping businesses open We will spare no effort in saving lives and beating this virus           4848       39631\n",
      "67   1436155670978568196                                                                   The Department of Labor is developing an emergency rule to require that all employers with 100 or more employees ensure their workforces are fully vaccinated or show a negative test at least once a week           3059       26884\n",
      "70   1435739980706500609                                              The pandemic of the unvaccinated is a tragedy that is preventable People are dying and will die from COVID19 who dont have to If you havent gotten vaccinated do it now It could save your life and the lives of those you love           7359       53166\n",
      "74   1434188759747211267                                                                                                                                       RT POTUS I know some folks are hesitant to get vaccinated but the vaccine is safe effective and the best way to protect yourself and t           3358       17538\n",
      "92   1429611346346250242     To those in Henris path Dont forget that you may need to seek shelter while were still battling COVID19 and the Delta variant So wear a mask and try to observe social distancingAnd to everyone across the country dont get caught by the next storm Get vaccinated now           4214       38329\n",
      "101  1426676508349943815                                                                                                                                                                          Our economy is coming backbut theres more work to be done We have to beat this virus Get vaccinated           8800       91763\n",
      "111  1424030175940026370                                                                                                                                                                                         RT POTUS The Delta variant is surging but we have the power to stop itGet vaccinated          15959      120647\n",
      "122  1421861032402817032                                                                                                                                                                                                 If youre worried about the Delta variant the answer is simple get vaccinated           6538       44935\n",
      "130  1418999226894372872                                                                                                                                                                       RT POTUS Folks the Delta variant is no joke Please protect yourself and your loved ones get vaccinated          25744      173242\n",
      "137  1416792088239394816                                                                                                                                                        RT POTUS With the Delta variant on the rise across the country its more important than ever to get vaccinated Head to           4444       21653\n",
      "142  1415488484693905411                                                                                                                                       RT POTUS Thanks for stopping by Olivia and for using your voice to urge young people to get vaccinated If we all do our part and get t          15414      182268\n",
      "145  1414299130743111685                                                                                                                                                                             RT POTUS Get vaccinated folks Its free its effective and its never been easier or more important          21200      161974\n",
      "153  1410989575732961286                                                                                                                                                                                                                  Help us mark our independence from this virusget vaccinated           7766       77548\n",
      "155  1410694898601316359                                       The science is clear The best way to protect yourself against the virus and its variants is to be fully vaccinated If you have not been vaccinated get your COVID19 shot as soon as possible Now is not the time to let our guard down           5466       43360\n",
      "181  1403777473800773635                                          The COVID19 vaccine is free but lack of access to child care can be a barrier Thats why four of our nations largest child care providers are offering free care for parents and caregivers getting vaccinated from now until July 4           2351       16514\n",
      "185  1403037362670743559                                                                                                                                                                                                                               COVID19 vaccines are free Get vaccinated folks          18925      166840\n",
      "194  1401310832882077696                                                                                                                                                                                                                                       Were counting on you to get vaccinated           3626       34065\n"
     ]
    }
   ],
   "source": [
    "# drop_duplicates to filter by the tweet id column and remove duplicates\n",
    "tweets_filter.drop_duplicates(subset=['Text'], keep=False)\n",
    "# added the to_string() to print out the whole thing for easier viewing\n",
    "print(tweets_filter.to_string())"
   ]
  },
  {
   "cell_type": "code",
   "execution_count": 46,
   "id": "e571348c",
   "metadata": {
    "id": "e571348c"
   },
   "outputs": [],
   "source": [
    "# Converting dataframe to CSV \n",
    "tweets_filter.to_csv('{}-tweets.csv'.format(name), sep=',', index = False)"
   ]
  },
  {
   "cell_type": "code",
   "execution_count": 47,
   "id": "31fe79e6",
   "metadata": {},
   "outputs": [],
   "source": [
    "words_in_tweet = [Text.lower().split() for Text in tweets_filter.Text]"
   ]
  },
  {
   "cell_type": "code",
   "execution_count": 48,
   "id": "b70dfe80",
   "metadata": {},
   "outputs": [
    {
     "name": "stderr",
     "output_type": "stream",
     "text": [
      "[nltk_data] Downloading package stopwords to\n",
      "[nltk_data]     /Users/tonygao/nltk_data...\n",
      "[nltk_data]   Package stopwords is already up-to-date!\n"
     ]
    },
    {
     "data": {
      "text/plain": [
       "True"
      ]
     },
     "execution_count": 48,
     "metadata": {},
     "output_type": "execute_result"
    }
   ],
   "source": [
    "from nltk.corpus import stopwords\n",
    "nltk.download('stopwords')"
   ]
  },
  {
   "cell_type": "code",
   "execution_count": 49,
   "id": "9a798125",
   "metadata": {},
   "outputs": [
    {
     "name": "stdout",
     "output_type": "stream",
     "text": [
      "{'she', 'd', \"doesn't\", 'now', 'most', 'nor', \"she's\", 'into', 'while', 'more', 'you', 'above', 'other', 'our', \"should've\", 'did', 'through', 'some', 'shouldn', 'couldn', 'once', 'hadn', 'herself', 'ain', 'if', 'we', \"you'd\", 'haven', 'because', 'during', 'what', 'your', 'a', 'ma', 'again', 'it', 'hasn', 'are', \"haven't\", 'below', 'off', 'such', 'wouldn', 'the', 'this', 'myself', \"don't\", 'needn', 'from', 'out', \"wouldn't\", 'mightn', 'themselves', 'as', 'should', \"hasn't\", 'were', 'aren', 'wasn', 'he', 'how', 'i', 'yourself', 'is', 'when', 'ourselves', 'me', 'doing', 'same', 'after', 'few', 'his', 'them', \"didn't\", 'in', 'where', 'y', \"aren't\", 'isn', 'of', 'has', 'that', 'yours', 'then', 's', 'its', 'had', 'can', 'theirs', 'do', 'whom', 'does', 'mustn', 'just', \"you'll\", 'before', 'll', 'not', 'weren', 'up', 'o', 'her', \"weren't\", 'here', \"won't\", 'shan', 'was', \"you've\", \"needn't\", 'very', \"mightn't\", 'didn', \"isn't\", 'at', 'each', \"wasn't\", 'doesn', \"shouldn't\", 'both', 'only', 'against', 'been', 'no', 'being', 'am', 'so', 'him', 'will', 'with', 're', 'm', \"couldn't\", 'until', 'between', 've', \"it's\", \"you're\", 'and', 'an', 'by', 'be', 'ours', 'under', 'than', 'these', 'my', 'or', 'those', 'further', 'own', 'too', 'won', 'their', 'why', 'yourselves', 'down', \"shan't\", 'about', 'himself', 'don', 'itself', 'for', 'have', 't', 'there', 'having', 'who', 'on', 'all', 'which', 'but', \"mustn't\", \"that'll\", 'hers', 'they', 'any', 'to', \"hadn't\", 'over'}\n"
     ]
    }
   ],
   "source": [
    "stop_words = set(stopwords.words('english')) #list of stopwords\n",
    "print(stop_words)"
   ]
  },
  {
   "cell_type": "code",
   "execution_count": 50,
   "id": "5106b5ac",
   "metadata": {
    "scrolled": true
   },
   "outputs": [
    {
     "data": {
      "text/plain": [
       "[('vaccinated', 25),\n",
       " ('get', 20),\n",
       " ('covid19', 8),\n",
       " ('rt', 8),\n",
       " ('potus', 8),\n",
       " ('fully', 6),\n",
       " ('shot', 6),\n",
       " ('americans', 5),\n",
       " ('delta', 5),\n",
       " ('variant', 5),\n",
       " ('booster', 4),\n",
       " ('virus', 4),\n",
       " ('dont', 4),\n",
       " ('folks', 4),\n",
       " ('free', 4)]"
      ]
     },
     "execution_count": 50,
     "metadata": {},
     "output_type": "execute_result"
    }
   ],
   "source": [
    "import itertools\n",
    "import collections\n",
    "\n",
    "tweets_nsw = [[word for word in tweet_words if not word in stop_words]\n",
    "              for tweet_words in words_in_tweet]\n",
    "\n",
    "all_words = list(itertools.chain(*tweets_nsw))  #import libary itertools to flatten the list into 1 list\n",
    "\n",
    "# Create counter\n",
    "counts_words = collections.Counter(all_words)  #import library collections collection \"Counter\" object \n",
    "\n",
    "counts_words.most_common(15) #return the most commonly used words and the number of times that they are used."
   ]
  },
  {
   "cell_type": "code",
   "execution_count": 51,
   "id": "54b18f04",
   "metadata": {
    "scrolled": true
   },
   "outputs": [
    {
     "data": {
      "image/png": "[encoded data removed]",
      "text/plain": [
       "<Figure size 576x576 with 1 Axes>"
      ]
     },
     "metadata": {
      "needs_background": "light"
     },
     "output_type": "display_data"
    }
   ],
   "source": [
    "import matplotlib.pyplot as plt\n",
    "clean_tweets_nsw = pd.DataFrame(counts_words.most_common(15),\n",
    "                             columns=['words', 'count'])\n",
    "\n",
    "fig, ax = plt.subplots(figsize=(8, 8))\n",
    "\n",
    "# Plot horizontal bar graph\n",
    "clean_tweets_nsw.sort_values(by='count').plot.barh(x='words',\n",
    "                      y='count',\n",
    "                      ax=ax,\n",
    "                      color=\"purple\")\n",
    "\n",
    "ax.set_title(\"Common Words Found in Tweets (Without Stop Words)\")\n",
    "\n",
    "plt.show()"
   ]
  },
  {
   "cell_type": "code",
   "execution_count": 52,
   "id": "92c94d8a",
   "metadata": {
    "id": "92c94d8a",
    "outputId": "a16af87c-476d-490d-92dc-bb7d801fe670"
   },
   "outputs": [
    {
     "data": {
      "text/plain": [
       "['__class__',\n",
       " '__delattr__',\n",
       " '__dict__',\n",
       " '__dir__',\n",
       " '__doc__',\n",
       " '__eq__',\n",
       " '__format__',\n",
       " '__ge__',\n",
       " '__getattribute__',\n",
       " '__getstate__',\n",
       " '__gt__',\n",
       " '__hash__',\n",
       " '__init__',\n",
       " '__init_subclass__',\n",
       " '__le__',\n",
       " '__lt__',\n",
       " '__module__',\n",
       " '__ne__',\n",
       " '__new__',\n",
       " '__reduce__',\n",
       " '__reduce_ex__',\n",
       " '__repr__',\n",
       " '__setattr__',\n",
       " '__sizeof__',\n",
       " '__slots__',\n",
       " '__str__',\n",
       " '__subclasshook__',\n",
       " '__weakref__',\n",
       " '_api',\n",
       " '_json',\n",
       " 'author',\n",
       " 'contributors',\n",
       " 'coordinates',\n",
       " 'created_at',\n",
       " 'destroy',\n",
       " 'display_text_range',\n",
       " 'entities',\n",
       " 'favorite',\n",
       " 'favorite_count',\n",
       " 'favorited',\n",
       " 'full_text',\n",
       " 'geo',\n",
       " 'id',\n",
       " 'id_str',\n",
       " 'in_reply_to_screen_name',\n",
       " 'in_reply_to_status_id',\n",
       " 'in_reply_to_status_id_str',\n",
       " 'in_reply_to_user_id',\n",
       " 'in_reply_to_user_id_str',\n",
       " 'is_quote_status',\n",
       " 'lang',\n",
       " 'parse',\n",
       " 'parse_list',\n",
       " 'place',\n",
       " 'retweet',\n",
       " 'retweet_count',\n",
       " 'retweeted',\n",
       " 'retweeted_status',\n",
       " 'retweets',\n",
       " 'source',\n",
       " 'source_url',\n",
       " 'truncated',\n",
       " 'user']"
      ]
     },
     "execution_count": 52,
     "metadata": {},
     "output_type": "execute_result"
    }
   ],
   "source": [
    "dir(tweet)"
   ]
  },
  {
   "cell_type": "code",
   "execution_count": null,
   "id": "6e888376",
   "metadata": {},
   "outputs": [],
   "source": []
  },
  {
   "cell_type": "code",
   "execution_count": null,
   "id": "d72a7490",
   "metadata": {},
   "outputs": [],
   "source": []
  }
 ],
 "metadata": {
  "colab": {
   "name": "Twitter_Crawler_updated.ipynb",
   "provenance": []
  },
  "kernelspec": {
   "display_name": "Python 3",
   "language": "python",
   "name": "python3"
  },
  "language_info": {
   "codemirror_mode": {
    "name": "ipython",
    "version": 3
   },
   "file_extension": ".py",
   "mimetype": "text/x-python",
   "name": "python",
   "nbconvert_exporter": "python",
   "pygments_lexer": "ipython3",
   "version": "3.8.8"
  }
 },
 "nbformat": 4,
 "nbformat_minor": 5
}
